{
 "cells": [
  {
   "cell_type": "markdown",
   "id": "8c7be81c",
   "metadata": {},
   "source": [
    "### How to take labeled AnnData object and Calculate Gene Ditributions"
   ]
  },
  {
   "cell_type": "code",
   "execution_count": 29,
   "id": "bbc77630",
   "metadata": {},
   "outputs": [],
   "source": [
    "import squidpy as sq\n",
    "from hest import iter_hest\n",
    "import matplotlib.pyplot as plt\n",
    "import anndata as ad\n",
    "import numpy as np"
   ]
  },
  {
   "cell_type": "markdown",
   "id": "cc41f3e5",
   "metadata": {},
   "source": [
    "#### Get AnnData from SpatialliBD\n",
    "* Using MISC1 for now sample 151676"
   ]
  },
  {
   "cell_type": "code",
   "execution_count": 30,
   "id": "387a04b1",
   "metadata": {},
   "outputs": [
    {
     "data": {
      "text/plain": [
       "Index(['in_tissue', 'array_row', 'array_col', 'pxl_col_in_fullres',\n",
       "       'pxl_row_in_fullres', 'n_genes_by_counts', 'log1p_n_genes_by_counts',\n",
       "       'total_counts', 'log1p_total_counts', 'pct_counts_in_top_50_genes',\n",
       "       'pct_counts_in_top_100_genes', 'pct_counts_in_top_200_genes',\n",
       "       'pct_counts_in_top_500_genes', 'total_counts_mito',\n",
       "       'log1p_total_counts_mito', 'pct_counts_mito', '151676_deepst.csv',\n",
       "       '151676_deepst_5_clusters.csv', '151676_deepst_8_clusters.csv',\n",
       "       '151676_MISC1spagcn_2_clusters.csv', '151676_deepst_6_clusters.csv',\n",
       "       '151676_deepst_9_clusters.csv', '151676_deepst_7_clusters.csv',\n",
       "       '151676_deepst_2_clusters.csv', '151676_MISC1spagcn_3_clusters.csv',\n",
       "       '151676_MISC1spagcn_5_clusters.csv', '151676_deepst_4_clusters.csv',\n",
       "       '151676_MISC1spagcn_4_clusters.csv', '151676_MISC1spagcn.csv',\n",
       "       '151676_deepst_3_clusters.csv'],\n",
       "      dtype='object')"
      ]
     },
     "execution_count": 30,
     "metadata": {},
     "output_type": "execute_result"
    }
   ],
   "source": [
    "id  = 'MISC1'\n",
    "sample = ad.read_h5ad(f\"methods/{id}.h5\")\n",
    "sample.obs.columns"
   ]
  },
  {
   "cell_type": "markdown",
   "id": "06cb9da2",
   "metadata": {},
   "source": [
    "### Use Moran's I to calculate Spatially Variable Genes"
   ]
  },
  {
   "cell_type": "code",
   "execution_count": null,
   "id": "b5de3893",
   "metadata": {},
   "outputs": [
    {
     "name": "stderr",
     "output_type": "stream",
     "text": [
      "/home/isaac/dev/sfu/cmpt415/cmpt415_spatial_domain_variability/venv/lib/python3.12/site-packages/scanpy/metrics/_common.py:72: UserWarning: 12226 variables were constant, will return nan for these.\n",
      "  warnings.warn(\n"
     ]
    },
    {
     "data": {
      "application/vnd.jupyter.widget-view+json": {
       "model_id": "83afebf23df7493daf81d15d0f068cac",
       "version_major": 2,
       "version_minor": 0
      },
      "text/plain": [
       "  0%|          | 0/100 [00:00<?, ?/s]"
      ]
     },
     "metadata": {},
     "output_type": "display_data"
    },
    {
     "data": {
      "text/html": [
       "<div>\n",
       "<style scoped>\n",
       "    .dataframe tbody tr th:only-of-type {\n",
       "        vertical-align: middle;\n",
       "    }\n",
       "\n",
       "    .dataframe tbody tr th {\n",
       "        vertical-align: top;\n",
       "    }\n",
       "\n",
       "    .dataframe thead th {\n",
       "        text-align: right;\n",
       "    }\n",
       "</style>\n",
       "<table border=\"1\" class=\"dataframe\">\n",
       "  <thead>\n",
       "    <tr style=\"text-align: right;\">\n",
       "      <th></th>\n",
       "      <th>I</th>\n",
       "      <th>pval_norm</th>\n",
       "      <th>var_norm</th>\n",
       "      <th>pval_z_sim</th>\n",
       "      <th>pval_sim</th>\n",
       "      <th>var_sim</th>\n",
       "      <th>pval_norm_fdr_bh</th>\n",
       "      <th>pval_z_sim_fdr_bh</th>\n",
       "      <th>pval_sim_fdr_bh</th>\n",
       "    </tr>\n",
       "  </thead>\n",
       "  <tbody>\n",
       "    <tr>\n",
       "      <th>MBP</th>\n",
       "      <td>True</td>\n",
       "      <td>False</td>\n",
       "      <td>False</td>\n",
       "      <td>False</td>\n",
       "      <td>False</td>\n",
       "      <td>False</td>\n",
       "      <td>False</td>\n",
       "      <td>False</td>\n",
       "      <td>False</td>\n",
       "    </tr>\n",
       "    <tr>\n",
       "      <th>MT-CO1</th>\n",
       "      <td>True</td>\n",
       "      <td>False</td>\n",
       "      <td>False</td>\n",
       "      <td>False</td>\n",
       "      <td>False</td>\n",
       "      <td>False</td>\n",
       "      <td>False</td>\n",
       "      <td>False</td>\n",
       "      <td>False</td>\n",
       "    </tr>\n",
       "    <tr>\n",
       "      <th>GFAP</th>\n",
       "      <td>True</td>\n",
       "      <td>False</td>\n",
       "      <td>False</td>\n",
       "      <td>False</td>\n",
       "      <td>False</td>\n",
       "      <td>False</td>\n",
       "      <td>False</td>\n",
       "      <td>False</td>\n",
       "      <td>False</td>\n",
       "    </tr>\n",
       "    <tr>\n",
       "      <th>MT-CO2</th>\n",
       "      <td>True</td>\n",
       "      <td>False</td>\n",
       "      <td>False</td>\n",
       "      <td>False</td>\n",
       "      <td>False</td>\n",
       "      <td>False</td>\n",
       "      <td>False</td>\n",
       "      <td>False</td>\n",
       "      <td>False</td>\n",
       "    </tr>\n",
       "    <tr>\n",
       "      <th>MT-ND1</th>\n",
       "      <td>True</td>\n",
       "      <td>False</td>\n",
       "      <td>False</td>\n",
       "      <td>False</td>\n",
       "      <td>False</td>\n",
       "      <td>False</td>\n",
       "      <td>False</td>\n",
       "      <td>False</td>\n",
       "      <td>False</td>\n",
       "    </tr>\n",
       "    <tr>\n",
       "      <th>...</th>\n",
       "      <td>...</td>\n",
       "      <td>...</td>\n",
       "      <td>...</td>\n",
       "      <td>...</td>\n",
       "      <td>...</td>\n",
       "      <td>...</td>\n",
       "      <td>...</td>\n",
       "      <td>...</td>\n",
       "      <td>...</td>\n",
       "    </tr>\n",
       "    <tr>\n",
       "      <th>AC004556.1</th>\n",
       "      <td>False</td>\n",
       "      <td>True</td>\n",
       "      <td>False</td>\n",
       "      <td>False</td>\n",
       "      <td>False</td>\n",
       "      <td>False</td>\n",
       "      <td>True</td>\n",
       "      <td>False</td>\n",
       "      <td>False</td>\n",
       "    </tr>\n",
       "    <tr>\n",
       "      <th>AC233755.2</th>\n",
       "      <td>False</td>\n",
       "      <td>False</td>\n",
       "      <td>False</td>\n",
       "      <td>False</td>\n",
       "      <td>False</td>\n",
       "      <td>False</td>\n",
       "      <td>False</td>\n",
       "      <td>False</td>\n",
       "      <td>False</td>\n",
       "    </tr>\n",
       "    <tr>\n",
       "      <th>AC233755.1</th>\n",
       "      <td>False</td>\n",
       "      <td>False</td>\n",
       "      <td>False</td>\n",
       "      <td>False</td>\n",
       "      <td>False</td>\n",
       "      <td>False</td>\n",
       "      <td>False</td>\n",
       "      <td>False</td>\n",
       "      <td>False</td>\n",
       "    </tr>\n",
       "    <tr>\n",
       "      <th>AC213203.1</th>\n",
       "      <td>False</td>\n",
       "      <td>True</td>\n",
       "      <td>False</td>\n",
       "      <td>False</td>\n",
       "      <td>False</td>\n",
       "      <td>False</td>\n",
       "      <td>True</td>\n",
       "      <td>False</td>\n",
       "      <td>False</td>\n",
       "    </tr>\n",
       "    <tr>\n",
       "      <th>FAM231C</th>\n",
       "      <td>False</td>\n",
       "      <td>False</td>\n",
       "      <td>False</td>\n",
       "      <td>False</td>\n",
       "      <td>False</td>\n",
       "      <td>False</td>\n",
       "      <td>False</td>\n",
       "      <td>False</td>\n",
       "      <td>False</td>\n",
       "    </tr>\n",
       "  </tbody>\n",
       "</table>\n",
       "<p>33538 rows × 9 columns</p>\n",
       "</div>"
      ],
      "text/plain": [
       "                I  pval_norm  var_norm  pval_z_sim  pval_sim  var_sim  \\\n",
       "MBP          True      False     False       False     False    False   \n",
       "MT-CO1       True      False     False       False     False    False   \n",
       "GFAP         True      False     False       False     False    False   \n",
       "MT-CO2       True      False     False       False     False    False   \n",
       "MT-ND1       True      False     False       False     False    False   \n",
       "...           ...        ...       ...         ...       ...      ...   \n",
       "AC004556.1  False       True     False       False     False    False   \n",
       "AC233755.2  False      False     False       False     False    False   \n",
       "AC233755.1  False      False     False       False     False    False   \n",
       "AC213203.1  False       True     False       False     False    False   \n",
       "FAM231C     False      False     False       False     False    False   \n",
       "\n",
       "            pval_norm_fdr_bh  pval_z_sim_fdr_bh  pval_sim_fdr_bh  \n",
       "MBP                    False              False            False  \n",
       "MT-CO1                 False              False            False  \n",
       "GFAP                   False              False            False  \n",
       "MT-CO2                 False              False            False  \n",
       "MT-ND1                 False              False            False  \n",
       "...                      ...                ...              ...  \n",
       "AC004556.1              True              False            False  \n",
       "AC233755.2             False              False            False  \n",
       "AC233755.1             False              False            False  \n",
       "AC213203.1              True              False            False  \n",
       "FAM231C                False              False            False  \n",
       "\n",
       "[33538 rows x 9 columns]"
      ]
     },
     "execution_count": 59,
     "metadata": {},
     "output_type": "execute_result"
    }
   ],
   "source": [
    "from sdi_variation.downstream import Morans_I\n",
    "Morans_I(sample)\n",
    "plt.hist(sample.uns[\"moranI\"]['I'].dropna())"
   ]
  },
  {
   "cell_type": "code",
   "execution_count": null,
   "id": "9591649e",
   "metadata": {},
   "outputs": [
    {
     "data": {
      "text/plain": [
       "Index(['MBP', 'MT-CO1', 'GFAP', 'MT-CO2', 'MT-ND1', 'MT-ATP6', 'MT-CO3',\n",
       "       'MT-ND4', 'PLP1', 'MT-ND2', 'MT-CYB', 'SCGB2A2', 'MT-ND3', 'CNP',\n",
       "       'MOBP', 'CRYAB', 'SCGB1D2', 'MT-ND5', 'NDUFA4', 'TF', 'MGP',\n",
       "       'MTRNR2L12'],\n",
       "      dtype='object')"
      ]
     },
     "execution_count": 66,
     "metadata": {},
     "output_type": "execute_result"
    },
    {
     "data": {
      "image/png": "[encoded data removed]",
      "text/plain": [
       "<Figure size 640x480 with 1 Axes>"
      ]
     },
     "metadata": {},
     "output_type": "display_data"
    }
   ],
   "source": [
    "i_score = sample.uns['moranI']\n",
    "t = 0.5 # spatial clustering threshold\n",
    "genes_of_interest = i_score['I'] > t\n",
    "\n",
    "plt.hist(i_score.loc[genes_of_interest,'I'])\n",
    "plt.title(\"I Score of Spatially Variable Genes\")\n",
    "i_score[genes_of_interest].index"
   ]
  },
  {
   "cell_type": "markdown",
   "id": "a09cbb88",
   "metadata": {},
   "source": [
    "### Use deepst 7 clusters"
   ]
  },
  {
   "cell_type": "code",
   "execution_count": 71,
   "id": "1d829c88",
   "metadata": {},
   "outputs": [
    {
     "data": {
      "text/plain": [
       "Text(0, 0.5, 'Clusters')"
      ]
     },
     "execution_count": 71,
     "metadata": {},
     "output_type": "execute_result"
    },
    {
     "data": {
      "image/png": "[encoded data removed]",
      "text/plain": [
       "<Figure size 640x480 with 1 Axes>"
      ]
     },
     "metadata": {},
     "output_type": "display_data"
    }
   ],
   "source": [
    "dst_7 = '151676_deepst_7_clusters.csv'\n",
    "cluster_counts = sample.obs[dst_7].value_counts()\n",
    "plt.barh(cluster_counts.index,cluster_counts)\n",
    "plt.title(f\"{id} {dst_7.split('.')[0]} Label Distribution\")\n",
    "plt.xlabel(\"Spots Belonging to Cluster\")\n",
    "plt.ylabel(\"Clusters\")"
   ]
  },
  {
   "cell_type": "code",
   "execution_count": null,
   "id": "276d9b45",
   "metadata": {},
   "outputs": [],
   "source": [
    "def plot_gene_dist(count_vector:np.ndarray,n_genes:int):\n",
    "    plt.bar(list(range(count_vector.shape[0])),np.log(count_vector + 1))\n",
    "    plt.title(f\"Cluster {c} Gene Count Distribution\")\n",
    "    plt.xlabel(\"Gene ID\")\n",
    "    plt.ylabel(f\"log(gene counts + 1)\")\n",
    "    plt.xlim((0,n_genes.shape[0]))"
   ]
  },
  {
   "cell_type": "code",
   "execution_count": null,
   "id": "c665b4a6",
   "metadata": {},
   "outputs": [
    {
     "data": {
      "text/plain": [
       "Text(0, 0.5, 'log(gene counts + 1)')"
      ]
     },
     "execution_count": 86,
     "metadata": {},
     "output_type": "execute_result"
    },
    {
     "data": {
      "image/png": "[encoded data removed]",
      "text/plain": [
       "<Figure size 640x480 with 1 Axes>"
      ]
     },
     "metadata": {},
     "output_type": "display_data"
    }
   ],
   "source": [
    "c = 4\n",
    "clust = sample.obs[dst_7] == c\n",
    "gene_counts = sample.X.toarray()\n",
    "\n",
    "\n",
    "clust_genes = sample.X.toarray()[clust,:][:,:].sum(axis = 0)\n",
    "plt.bar(list(range(clust_genes.shape[0])),np.log(clust_genes + 1))\n",
    "plt.title(f\"Cluster {c} Gene Count Distribution\")\n",
    "plt.xlabel(\"Gene ID\")\n",
    "plt.ylabel(f\"log(gene counts + 1)\")\n",
    "plt.xlim((0,gene_counts.shape[0]))"
   ]
  }
 ],
 "metadata": {
  "kernelspec": {
   "display_name": "Python 3 (ipykernel)",
   "language": "python",
   "name": "python3"
  },
  "language_info": {
   "codemirror_mode": {
    "name": "ipython",
    "version": 3
   },
   "file_extension": ".py",
   "mimetype": "text/x-python",
   "name": "python",
   "nbconvert_exporter": "python",
   "pygments_lexer": "ipython3",
   "version": "3.12.9"
  }
 },
 "nbformat": 4,
 "nbformat_minor": 5
}
