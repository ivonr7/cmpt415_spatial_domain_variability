{
 "cells": [
  {
   "cell_type": "code",
   "execution_count": 1,
   "id": "eca2e29a",
   "metadata": {},
   "outputs": [
    {
     "data": {
      "text/html": [
       "<div>\n",
       "<style scoped>\n",
       "    .dataframe tbody tr th:only-of-type {\n",
       "        vertical-align: middle;\n",
       "    }\n",
       "\n",
       "    .dataframe tbody tr th {\n",
       "        vertical-align: top;\n",
       "    }\n",
       "\n",
       "    .dataframe thead th {\n",
       "        text-align: right;\n",
       "    }\n",
       "</style>\n",
       "<table border=\"1\" class=\"dataframe\">\n",
       "  <thead>\n",
       "    <tr style=\"text-align: right;\">\n",
       "      <th></th>\n",
       "      <th>0</th>\n",
       "      <th>1</th>\n",
       "      <th>2</th>\n",
       "      <th>3</th>\n",
       "      <th>4</th>\n",
       "      <th>5</th>\n",
       "    </tr>\n",
       "  </thead>\n",
       "  <tbody>\n",
       "    <tr>\n",
       "      <th>0</th>\n",
       "      <td>ACGCCTGACACGCGCT-1</td>\n",
       "      <td>0</td>\n",
       "      <td>0</td>\n",
       "      <td>0</td>\n",
       "      <td>2510</td>\n",
       "      <td>2174</td>\n",
       "    </tr>\n",
       "    <tr>\n",
       "      <th>1</th>\n",
       "      <td>TACCGATCCAACACTT-1</td>\n",
       "      <td>0</td>\n",
       "      <td>1</td>\n",
       "      <td>1</td>\n",
       "      <td>2630</td>\n",
       "      <td>2243</td>\n",
       "    </tr>\n",
       "    <tr>\n",
       "      <th>2</th>\n",
       "      <td>ATTAAAGCGGACGAGC-1</td>\n",
       "      <td>0</td>\n",
       "      <td>0</td>\n",
       "      <td>2</td>\n",
       "      <td>2511</td>\n",
       "      <td>2312</td>\n",
       "    </tr>\n",
       "    <tr>\n",
       "      <th>3</th>\n",
       "      <td>GATAAGGGACGATTAG-1</td>\n",
       "      <td>0</td>\n",
       "      <td>1</td>\n",
       "      <td>3</td>\n",
       "      <td>2631</td>\n",
       "      <td>2381</td>\n",
       "    </tr>\n",
       "    <tr>\n",
       "      <th>4</th>\n",
       "      <td>GTGCAAATCACCAATA-1</td>\n",
       "      <td>0</td>\n",
       "      <td>0</td>\n",
       "      <td>4</td>\n",
       "      <td>2511</td>\n",
       "      <td>2450</td>\n",
       "    </tr>\n",
       "  </tbody>\n",
       "</table>\n",
       "</div>"
      ],
      "text/plain": [
       "                    0  1  2  3     4     5\n",
       "0  ACGCCTGACACGCGCT-1  0  0  0  2510  2174\n",
       "1  TACCGATCCAACACTT-1  0  1  1  2630  2243\n",
       "2  ATTAAAGCGGACGAGC-1  0  0  2  2511  2312\n",
       "3  GATAAGGGACGATTAG-1  0  1  3  2631  2381\n",
       "4  GTGCAAATCACCAATA-1  0  0  4  2511  2450"
      ]
     },
     "execution_count": 1,
     "metadata": {},
     "output_type": "execute_result"
    }
   ],
   "source": [
    "import pandas as pd\n",
    "from os import path\n",
    "\n",
    "\n",
    "folder = \"data/151507\"\n",
    "tissue = pd.read_csv(folder+\"/\"+\"tissue_positions_list.txt\",header=None)\n",
    "tissue.head()"
   ]
  },
  {
   "cell_type": "code",
   "execution_count": 2,
   "id": "f3c3e474",
   "metadata": {},
   "outputs": [
    {
     "data": {
      "text/plain": [
       "(np.int64(10917), np.int64(2148))"
      ]
     },
     "execution_count": 2,
     "metadata": {},
     "output_type": "execute_result"
    }
   ],
   "source": [
    "tissue[5].max(), tissue[5].min()"
   ]
  },
  {
   "cell_type": "markdown",
   "id": "a858b7a1",
   "metadata": {},
   "source": [
    "## Parallel Range detection"
   ]
  },
  {
   "cell_type": "code",
   "execution_count": 9,
   "id": "166bb9c1",
   "metadata": {},
   "outputs": [],
   "source": [
    "def tissue_pos_samples(parent:str, samples:list):\n",
    "    for sample in samples:\n",
    "        yield path.join(parent,sample,\"tissue_positions_list.txt\")\n",
    "def read_data(path:str):\n",
    "    return pd.read_csv(path,header=None)"
   ]
  },
  {
   "cell_type": "code",
   "execution_count": 10,
   "id": "bb41b801",
   "metadata": {},
   "outputs": [
    {
     "name": "stdout",
     "output_type": "stream",
     "text": [
      "                    0  1  2  3     4     5\n",
      "0  ACGCCTGACACGCGCT-1  0  0  0  2510  2174\n",
      "1  TACCGATCCAACACTT-1  0  1  1  2630  2243\n",
      "2  ATTAAAGCGGACGAGC-1  0  0  2  2511  2312\n",
      "3  GATAAGGGACGATTAG-1  0  1  3  2631  2381\n",
      "4  GTGCAAATCACCAATA-1  0  0  4  2511  2450\n"
     ]
    }
   ],
   "source": [
    "from multiprocessing import Pool\n",
    "samples = list(tissue_pos_samples(\n",
    "    \"data/\",\n",
    "    [\n",
    "        \"151507\",\n",
    "        \"151508\", \n",
    "        \"151509\", \n",
    "        \"151510\", \n",
    "        \"151669\", \n",
    "        \"151670\", \n",
    "        \"151671\", \n",
    "        \"151672\", \n",
    "        \"151673\", \n",
    "        \"151674\", \n",
    "        \"151675\", \n",
    "        \"151676\"\n",
    "    ]\n",
    "))\n",
    "with Pool(5) as p:\n",
    "    tissues = p.map(read_data,samples)\n",
    "print(tissues[0].head())"
   ]
  },
  {
   "cell_type": "code",
   "execution_count": 19,
   "id": "87ababa4",
   "metadata": {},
   "outputs": [
    {
     "name": "stdout",
     "output_type": "stream",
     "text": [
      "data/151507/tissue_positions_list.txt: column range 8769\n",
      "data/151507/tissue_positions_list.txt: row range 9249\n",
      "Unique values: 3562 / 4992\n",
      "\n",
      "data/151508/tissue_positions_list.txt: column range 8770\n",
      "data/151508/tissue_positions_list.txt: row range 9251\n",
      "Unique values: 3832 / 4992\n",
      "\n",
      "data/151509/tissue_positions_list.txt: column range 8827\n",
      "data/151509/tissue_positions_list.txt: row range 9311\n",
      "Unique values: 857 / 4992\n",
      "\n",
      "data/151510/tissue_positions_list.txt: column range 8858\n",
      "data/151510/tissue_positions_list.txt: row range 9339\n",
      "Unique values: 4897 / 4992\n",
      "\n",
      "data/151669/tissue_positions_list.txt: column range 8761\n",
      "data/151669/tissue_positions_list.txt: row range 9242\n",
      "Unique values: 2583 / 4992\n",
      "\n",
      "data/151670/tissue_positions_list.txt: column range 8763\n",
      "data/151670/tissue_positions_list.txt: row range 9243\n",
      "Unique values: 2932 / 4992\n",
      "\n",
      "data/151671/tissue_positions_list.txt: column range 8762\n",
      "data/151671/tissue_positions_list.txt: row range 9242\n",
      "Unique values: 2532 / 4992\n",
      "\n",
      "data/151672/tissue_positions_list.txt: column range 8763\n",
      "data/151672/tissue_positions_list.txt: row range 9243\n",
      "Unique values: 2923 / 4992\n",
      "\n",
      "data/151673/tissue_positions_list.txt: column range 8810\n",
      "data/151673/tissue_positions_list.txt: row range 9288\n",
      "Unique values: 4992 / 4992\n",
      "\n",
      "data/151674/tissue_positions_list.txt: column range 8810\n",
      "data/151674/tissue_positions_list.txt: row range 9288\n",
      "Unique values: 4943 / 4992\n",
      "\n",
      "data/151675/tissue_positions_list.txt: column range 8809\n",
      "data/151675/tissue_positions_list.txt: row range 9288\n",
      "Unique values: 4992 / 4992\n",
      "\n",
      "data/151676/tissue_positions_list.txt: column range 8811\n",
      "data/151676/tissue_positions_list.txt: row range 9290\n",
      "Unique values: 4956 / 4992\n",
      "\n"
     ]
    }
   ],
   "source": [
    "for sample,tissue in zip(samples,tissues):\n",
    "    print(f\"{sample}: column range {tissue[5].max() - tissue[5].min()}\")\n",
    "    print(f\"{sample}: row range {tissue[4].max() -tissue[4].min()}\")\n",
    "\n",
    "    print(f\"Unique values: {tissue[5].unique().shape[0]} / {tissue[5].shape[0]}\")\n",
    "    print()"
   ]
  }
 ],
 "metadata": {
  "kernelspec": {
   "display_name": "Python 3 (ipykernel)",
   "language": "python",
   "name": "python3"
  },
  "language_info": {
   "codemirror_mode": {
    "name": "ipython",
    "version": 3
   },
   "file_extension": ".py",
   "mimetype": "text/x-python",
   "name": "python",
   "nbconvert_exporter": "python",
   "pygments_lexer": "ipython3",
   "version": "3.12.9"
  }
 },
 "nbformat": 4,
 "nbformat_minor": 5
}
